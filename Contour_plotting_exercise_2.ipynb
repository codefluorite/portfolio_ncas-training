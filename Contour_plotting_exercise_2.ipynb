{
 "cells": [
  {
   "cell_type": "markdown",
   "id": "cfd68904",
   "metadata": {},
   "source": [
    "# Contour plotting exercise (2)"
   ]
  },
  {
   "cell_type": "markdown",
   "id": "2513680c",
   "metadata": {},
   "source": [
    "# Make a Quasi Biennial-Oscillation (QBO) plot"
   ]
  },
  {
   "cell_type": "markdown",
   "id": "4d1cde99",
   "metadata": {},
   "source": [
    "The QBO is a quasiperiodic oscillation in the equatorial zonal wind between easterlies and westerlies in the tropical stratosphere witha mean period of 28 to 29 months. Effects of the QBO include mixing of stratospheric ozone, modification of monsoon precipitation and an influence on stratorspheric circulation in the northern hemisphere winter."
   ]
  },
  {
   "cell_type": "code",
   "execution_count": 13,
   "id": "40b819f5",
   "metadata": {},
   "outputs": [],
   "source": [
    "# Inline images in Ipython Notebook - not needed in Python\n",
    "%matplotlib inline"
   ]
  },
  {
   "cell_type": "code",
   "execution_count": 14,
   "id": "46123289",
   "metadata": {},
   "outputs": [],
   "source": [
    "# Import the cf-python and cf-plot packages\n",
    "import cf"
   ]
  },
  {
   "cell_type": "code",
   "execution_count": 15,
   "id": "abf9b5aa",
   "metadata": {},
   "outputs": [],
   "source": [
    "# Read in a file called ncas_data/qbo.nc as a single field\n",
    "\n",
    "f = cf.read('ncas_data/qbo.nc')[0]"
   ]
  },
  {
   "cell_type": "code",
   "execution_count": 16,
   "id": "a89fb442",
   "metadata": {},
   "outputs": [
    {
     "data": {
      "text/plain": [
       "<CF Field: eastward_wind(time(398), pressure(37), latitude(2), longitude(48)) m s**-1>"
      ]
     },
     "execution_count": 16,
     "metadata": {},
     "output_type": "execute_result"
    }
   ],
   "source": [
    "# See what data is in the file\n",
    "f"
   ]
  },
  {
   "cell_type": "code",
   "execution_count": 33,
   "id": "2146937b",
   "metadata": {},
   "outputs": [],
   "source": [
    "# Make a zonal mean of the data using the cf-python collapse method\n",
    "\n",
    "zmean = f.collapse('mean', 'longitude')"
   ]
  },
  {
   "cell_type": "code",
   "execution_count": 24,
   "id": "984bc348",
   "metadata": {},
   "outputs": [],
   "source": [
    "# Select the data at the equator with the cf-python subspace method\n",
    "\n",
    "zmean_eq = zmean.subspace(latitude=0.0)"
   ]
  },
  {
   "cell_type": "code",
   "execution_count": 34,
   "id": "a9991c64",
   "metadata": {},
   "outputs": [
    {
     "data": {
      "text/plain": [
       "<CF Field: eastward_wind(time(398), pressure(37), latitude(1), longitude(1)) m s**-1>"
      ]
     },
     "execution_count": 34,
     "metadata": {},
     "output_type": "execute_result"
    }
   ],
   "source": [
    "zmean_eq"
   ]
  }
 ],
 "metadata": {
  "kernelspec": {
   "display_name": "Python 3",
   "language": "python",
   "name": "python3"
  },
  "language_info": {
   "codemirror_mode": {
    "name": "ipython",
    "version": 3
   },
   "file_extension": ".py",
   "mimetype": "text/x-python",
   "name": "python",
   "nbconvert_exporter": "python",
   "pygments_lexer": "ipython3",
   "version": "3.8.10"
  }
 },
 "nbformat": 4,
 "nbformat_minor": 5
}
